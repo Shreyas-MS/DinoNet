{
 "cells": [
  {
   "cell_type": "code",
   "execution_count": 18,
   "metadata": {},
   "outputs": [],
   "source": [
    "import numpy as np\n",
    "import cv2\n",
    "import os\n",
    "import matplotlib.pyplot as plt"
   ]
  },
  {
   "cell_type": "code",
   "execution_count": 29,
   "metadata": {},
   "outputs": [],
   "source": [
    "dir = \"D:\\\\Machine_Learning\\\\JumpingChandu\\\\Dataset\\\\Train_4\"\n",
    "classes = ['jump','nothing']\n",
    "\n",
    "def get_data():\n",
    "    train = []\n",
    "    for clas in classes:\n",
    "        path = os.path.join(dir,clas)\n",
    "        label = classes.index(clas)\n",
    "        for img in os.listdir(path):\n",
    "            imgar = cv2.imread(os.path.join(path,img),cv2.IMREAD_GRAYSCALE)\n",
    "            imgar = imgar[95:150,0:130]\n",
    "            train.append([imgar,clas])\n",
    "    return train\n"
   ]
  },
  {
   "cell_type": "code",
   "execution_count": 30,
   "metadata": {},
   "outputs": [
    {
     "name": "stdout",
     "output_type": "stream",
     "text": [
      "[[255 255 255 ... 255 255 255]\n",
      " [255 255 255 ... 255 255 255]\n",
      " [255 255 255 ... 255 255 255]\n",
      " ...\n",
      " [255 255 255 ... 255 255 255]\n",
      " [255 255 255 ... 255 255 255]\n",
      " [255 255 255 ... 255 255 255]]\n"
     ]
    }
   ],
   "source": [
    "X = []\n",
    "y = []\n",
    "train = get_data()\n",
    "print(train[0][0])\n",
    "#cv2.imshow(\"img\",train[0][0])\n",
    "import random\n",
    "random.shuffle(train)\n",
    "for img, label in train:\n",
    "    X.append(img)\n",
    "    y.append(label)\n",
    "X = np.array(X).reshape(-1,55,130,1)\n"
   ]
  },
  {
   "cell_type": "code",
   "execution_count": null,
   "metadata": {},
   "outputs": [],
   "source": [
    "cv2.imshow(\"-\",X[0])\n",
    "cv2.waitKey(0)"
   ]
  },
  {
   "cell_type": "code",
   "execution_count": 31,
   "metadata": {},
   "outputs": [],
   "source": [
    "np.save(\"D:\\\\Machine_Learning\\\\JumpingChandu\\\\Dataset\\\\X7.npy\",X)\n",
    "np.save(\"D:\\\\Machine_Learning\\\\JumpingChandu\\\\Dataset\\\\y7.npy\",y)"
   ]
  },
  {
   "cell_type": "code",
   "execution_count": 26,
   "metadata": {},
   "outputs": [
    {
     "name": "stdout",
     "output_type": "stream",
     "text": [
      "(2501, 55, 140, 1)\n"
     ]
    }
   ],
   "source": [
    "print(X.shape)"
   ]
  },
  {
   "cell_type": "code",
   "execution_count": null,
   "metadata": {},
   "outputs": [],
   "source": []
  }
 ],
 "metadata": {
  "kernelspec": {
   "display_name": "Python 3",
   "language": "python",
   "name": "python3"
  },
  "language_info": {
   "codemirror_mode": {
    "name": "ipython",
    "version": 3
   },
   "file_extension": ".py",
   "mimetype": "text/x-python",
   "name": "python",
   "nbconvert_exporter": "python",
   "pygments_lexer": "ipython3",
   "version": "3.7.7"
  }
 },
 "nbformat": 4,
 "nbformat_minor": 4
}
