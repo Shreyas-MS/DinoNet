{
  "nbformat": 4,
  "nbformat_minor": 0,
  "metadata": {
    "kernelspec": {
      "display_name": "Python 3",
      "language": "python",
      "name": "python3"
    },
    "language_info": {
      "codemirror_mode": {
        "name": "ipython",
        "version": 3
      },
      "file_extension": ".py",
      "mimetype": "text/x-python",
      "name": "python",
      "nbconvert_exporter": "python",
      "pygments_lexer": "ipython3",
      "version": "3.7.7"
    },
    "colab": {
      "name": "Dino_model_shreyas_v1.ipynb",
      "provenance": [],
      "collapsed_sections": []
    },
    "accelerator": "GPU"
  },
  "cells": [
    {
      "cell_type": "code",
      "metadata": {
        "id": "OpiUJNHAdbUZ",
        "colab_type": "code",
        "outputId": "ec00f266-bfba-405b-9bdd-e1251ef8fee9",
        "colab": {
          "base_uri": "https://localhost:8080/",
          "height": 33
        }
      },
      "source": [
        "from google.colab import drive\n",
        "drive.mount('/content/drive', force_remount = True)"
      ],
      "execution_count": 0,
      "outputs": [
        {
          "output_type": "stream",
          "text": [
            "Mounted at /content/drive\n"
          ],
          "name": "stdout"
        }
      ]
    },
    {
      "cell_type": "code",
      "metadata": {
        "id": "RxC1vH85pPnc",
        "colab_type": "code",
        "colab": {}
      },
      "source": [
        "import keras\n",
        "import tensorflow as tf\n",
        "import numpy as np\n",
        "from matplotlib import pyplot as plt\n",
        "%matplotlib inline"
      ],
      "execution_count": 0,
      "outputs": []
    },
    {
      "cell_type": "code",
      "metadata": {
        "id": "T5HYtCZ70ttl",
        "colab_type": "code",
        "colab": {}
      },
      "source": [
        "#!unzip /content/jc/final.zip"
      ],
      "execution_count": 0,
      "outputs": []
    },
    {
      "cell_type": "code",
      "metadata": {
        "id": "GRedxo7EpPnk",
        "colab_type": "code",
        "colab": {}
      },
      "source": [
        "from keras.models import Sequential\n",
        "from keras.layers import Dense, Conv2D, MaxPooling2D, Flatten, Dropout\n",
        "\n",
        "def Model():\n",
        "    model = Sequential()\n",
        "    model.add(Conv2D(filters = 16,kernel_size = 5, padding = 'same', activation = 'relu', data_format = 'channels_last',input_shape = (55,130,1)))\n",
        "    model.add(Conv2D(filters = 16,kernel_size = 7, padding = 'valid', activation = 'relu', data_format = 'channels_last'))\n",
        "    model.add(MaxPooling2D(2))\n",
        "    model.add(Conv2D(filters = 32,kernel_size = 7, padding = 'valid', activation = 'relu', data_format = 'channels_last'))\n",
        "    model.add(MaxPooling2D(2))\n",
        "    model.add(Conv2D(filters = 64,kernel_size = 7, padding = 'valid', activation = 'relu', data_format = 'channels_last'))\n",
        "    model.add(Flatten())\n",
        "    model.add(Dense(units = 1024, activation = 'relu'))\n",
        "    model.add(Dense(units = 512, activation = 'relu'))\n",
        "    model.add(Dense(units = 256, activation = 'relu'))\n",
        "    model.add(Dense(units = 128, activation = 'relu'))\n",
        "    model.add(Dense(units = 64, activation = 'relu'))\n",
        "    model.add(Dense(units = 32, activation = 'relu'))\n",
        "    model.add(Dense(units = 32, activation = 'relu'))\n",
        "    model.add(Dense(units = 2, activation = 'softmax'))\n",
        "    return model"
      ],
      "execution_count": 0,
      "outputs": []
    },
    {
      "cell_type": "code",
      "metadata": {
        "id": "Q1yMsgeapPnn",
        "colab_type": "code",
        "outputId": "5ec3e12f-085a-45d1-f257-547a832b0ee8",
        "colab": {
          "base_uri": "https://localhost:8080/",
          "height": 651
        }
      },
      "source": [
        "model = Model()\n",
        "model.summary()"
      ],
      "execution_count": 0,
      "outputs": [
        {
          "output_type": "stream",
          "text": [
            "Model: \"sequential_7\"\n",
            "_________________________________________________________________\n",
            "Layer (type)                 Output Shape              Param #   \n",
            "=================================================================\n",
            "conv2d_25 (Conv2D)           (None, 55, 130, 16)       416       \n",
            "_________________________________________________________________\n",
            "conv2d_26 (Conv2D)           (None, 49, 124, 16)       12560     \n",
            "_________________________________________________________________\n",
            "max_pooling2d_13 (MaxPooling (None, 24, 62, 16)        0         \n",
            "_________________________________________________________________\n",
            "conv2d_27 (Conv2D)           (None, 18, 56, 32)        25120     \n",
            "_________________________________________________________________\n",
            "max_pooling2d_14 (MaxPooling (None, 9, 28, 32)         0         \n",
            "_________________________________________________________________\n",
            "conv2d_28 (Conv2D)           (None, 3, 22, 64)         100416    \n",
            "_________________________________________________________________\n",
            "flatten_7 (Flatten)          (None, 4224)              0         \n",
            "_________________________________________________________________\n",
            "dense_49 (Dense)             (None, 1024)              4326400   \n",
            "_________________________________________________________________\n",
            "dense_50 (Dense)             (None, 512)               524800    \n",
            "_________________________________________________________________\n",
            "dense_51 (Dense)             (None, 256)               131328    \n",
            "_________________________________________________________________\n",
            "dense_52 (Dense)             (None, 128)               32896     \n",
            "_________________________________________________________________\n",
            "dense_53 (Dense)             (None, 64)                8256      \n",
            "_________________________________________________________________\n",
            "dense_54 (Dense)             (None, 32)                2080      \n",
            "_________________________________________________________________\n",
            "dense_55 (Dense)             (None, 32)                1056      \n",
            "_________________________________________________________________\n",
            "dense_56 (Dense)             (None, 2)                 66        \n",
            "=================================================================\n",
            "Total params: 5,165,394\n",
            "Trainable params: 5,165,394\n",
            "Non-trainable params: 0\n",
            "_________________________________________________________________\n"
          ],
          "name": "stdout"
        }
      ]
    },
    {
      "cell_type": "code",
      "metadata": {
        "id": "JWxxa49bpPnr",
        "colab_type": "code",
        "colab": {}
      },
      "source": [
        "adumb = keras.optimizers.Adam(learning_rate = 3e-5)\n",
        "model.compile(optimizer = adumb, loss = 'categorical_crossentropy',metrics = [\n",
        "                                                                              tf.keras.metrics.CategoricalAccuracy('accuracy'),\n",
        "                                                                              tf.keras.metrics.Precision(name='precision'),\n",
        "                                                                              tf.keras.metrics.Recall(name='recall'),\n",
        "                                                                              tf.keras.metrics.AUC(name='auc'),\n",
        "                                                                              ])"
      ],
      "execution_count": 0,
      "outputs": []
    },
    {
      "cell_type": "code",
      "metadata": {
        "id": "a4k6QmvYpPnz",
        "colab_type": "code",
        "colab": {}
      },
      "source": [
        "X = np.load(\"/content/drive/My Drive/Machine_Learning/X7.npy\")\n",
        "y = np.load(\"/content/drive/My Drive/Machine_Learning/y7.npy\")"
      ],
      "execution_count": 0,
      "outputs": []
    },
    {
      "cell_type": "code",
      "metadata": {
        "id": "Ssb8Pa4hcOTS",
        "colab_type": "code",
        "outputId": "55692cc6-0e3f-4246-e906-76f893e3af96",
        "colab": {
          "base_uri": "https://localhost:8080/",
          "height": 67
        }
      },
      "source": [
        "print(X.shape)\n",
        "print(y.shape)\n",
        "\n",
        "y2 = []\n",
        "for ele in y:\n",
        "  if ele == 'nothing':\n",
        "    y2.append(0)\n",
        "  elif ele == 'jump':\n",
        "    y2.append(1)\n",
        "\n",
        "from sklearn.utils import class_weight\n",
        "class_weights = class_weight.compute_class_weight('balanced',np.unique(y2),y2)\n",
        "print(class_weights)\n",
        "y = keras.utils.to_categorical(y2, num_classes=2, dtype='float32')"
      ],
      "execution_count": 0,
      "outputs": [
        {
          "output_type": "stream",
          "text": [
            "(2498, 55, 130, 1)\n",
            "(2498,)\n",
            "[0.58831842 3.33066667]\n"
          ],
          "name": "stdout"
        }
      ]
    },
    {
      "cell_type": "code",
      "metadata": {
        "id": "rDmNzqsbbCq6",
        "colab_type": "code",
        "outputId": "fada4e5a-08c4-4bee-d34f-52740015104e",
        "colab": {
          "base_uri": "https://localhost:8080/",
          "height": 1000
        }
      },
      "source": [
        "history = model.fit(x = X,y = y,\n",
        "                    epochs = 175,\n",
        "                    workers = 12,\n",
        "                    use_multiprocessing = 1,\n",
        "                    validation_split = 0.15,\n",
        "                    batch_size = 64,\n",
        "                    class_weight = [0.7, 3]\n",
        "                    )"
      ],
      "execution_count": 0,
      "outputs": [
        {
          "output_type": "stream",
          "text": [
            "Train on 2123 samples, validate on 375 samples\n",
            "Epoch 1/175\n",
            "2123/2123 [==============================] - 2s 852us/step - loss: 0.4654 - accuracy: 0.7908 - precision: 0.7908 - recall: 0.7908 - auc: 0.8484 - val_loss: 0.1707 - val_accuracy: 0.8824 - val_precision: 0.8824 - val_recall: 0.8824 - val_auc: 0.9239\n",
            "Epoch 2/175\n",
            "2123/2123 [==============================] - 1s 660us/step - loss: 0.1169 - accuracy: 0.9063 - precision: 0.9063 - recall: 0.9063 - auc: 0.9482 - val_loss: 0.0911 - val_accuracy: 0.9221 - val_precision: 0.9221 - val_recall: 0.9221 - val_auc: 0.9618\n",
            "Epoch 3/175\n",
            "2123/2123 [==============================] - 1s 659us/step - loss: 0.1329 - accuracy: 0.9291 - precision: 0.9291 - recall: 0.9291 - auc: 0.9674 - val_loss: 0.0916 - val_accuracy: 0.9352 - val_precision: 0.9352 - val_recall: 0.9352 - val_auc: 0.9715\n",
            "Epoch 4/175\n",
            "2123/2123 [==============================] - 1s 651us/step - loss: 0.1086 - accuracy: 0.9406 - precision: 0.9406 - recall: 0.9406 - auc: 0.9751 - val_loss: 0.2355 - val_accuracy: 0.9426 - val_precision: 0.9426 - val_recall: 0.9426 - val_auc: 0.9763\n",
            "Epoch 5/175\n",
            "2123/2123 [==============================] - 1s 651us/step - loss: 0.1087 - accuracy: 0.9446 - precision: 0.9446 - recall: 0.9446 - auc: 0.9775 - val_loss: 0.0722 - val_accuracy: 0.9473 - val_precision: 0.9473 - val_recall: 0.9473 - val_auc: 0.9794\n",
            "Epoch 6/175\n",
            "2123/2123 [==============================] - 1s 662us/step - loss: 0.0818 - accuracy: 0.9500 - precision: 0.9500 - recall: 0.9500 - auc: 0.9810 - val_loss: 0.0715 - val_accuracy: 0.9518 - val_precision: 0.9518 - val_recall: 0.9518 - val_auc: 0.9823\n",
            "Epoch 7/175\n",
            "2123/2123 [==============================] - 1s 651us/step - loss: 0.0717 - accuracy: 0.9539 - precision: 0.9539 - recall: 0.9539 - auc: 0.9836 - val_loss: 0.0729 - val_accuracy: 0.9551 - val_precision: 0.9551 - val_recall: 0.9551 - val_auc: 0.9846\n",
            "Epoch 8/175\n",
            "2123/2123 [==============================] - 1s 652us/step - loss: 0.0836 - accuracy: 0.9562 - precision: 0.9562 - recall: 0.9562 - auc: 0.9855 - val_loss: 0.1565 - val_accuracy: 0.9566 - val_precision: 0.9566 - val_recall: 0.9566 - val_auc: 0.9860\n",
            "Epoch 9/175\n",
            "2123/2123 [==============================] - 1s 646us/step - loss: 0.0892 - accuracy: 0.9571 - precision: 0.9571 - recall: 0.9571 - auc: 0.9864 - val_loss: 0.0747 - val_accuracy: 0.9580 - val_precision: 0.9580 - val_recall: 0.9580 - val_auc: 0.9870\n",
            "Epoch 10/175\n",
            "2123/2123 [==============================] - 1s 658us/step - loss: 0.0581 - accuracy: 0.9589 - precision: 0.9589 - recall: 0.9589 - auc: 0.9877 - val_loss: 0.0757 - val_accuracy: 0.9598 - val_precision: 0.9598 - val_recall: 0.9598 - val_auc: 0.9883\n",
            "Epoch 11/175\n",
            "2123/2123 [==============================] - 1s 657us/step - loss: 0.0684 - accuracy: 0.9605 - precision: 0.9605 - recall: 0.9605 - auc: 0.9887 - val_loss: 0.0616 - val_accuracy: 0.9613 - val_precision: 0.9613 - val_recall: 0.9613 - val_auc: 0.9892\n",
            "Epoch 12/175\n",
            "2123/2123 [==============================] - 1s 658us/step - loss: 0.0579 - accuracy: 0.9620 - precision: 0.9620 - recall: 0.9620 - auc: 0.9897 - val_loss: 0.0673 - val_accuracy: 0.9628 - val_precision: 0.9628 - val_recall: 0.9628 - val_auc: 0.9901\n",
            "Epoch 13/175\n",
            "2123/2123 [==============================] - 1s 662us/step - loss: 0.0641 - accuracy: 0.9632 - precision: 0.9632 - recall: 0.9632 - auc: 0.9904 - val_loss: 0.0878 - val_accuracy: 0.9638 - val_precision: 0.9638 - val_recall: 0.9638 - val_auc: 0.9907\n",
            "Epoch 14/175\n",
            "2123/2123 [==============================] - 1s 661us/step - loss: 0.0742 - accuracy: 0.9641 - precision: 0.9641 - recall: 0.9641 - auc: 0.9909 - val_loss: 0.0863 - val_accuracy: 0.9643 - val_precision: 0.9643 - val_recall: 0.9643 - val_auc: 0.9911\n",
            "Epoch 15/175\n",
            "2123/2123 [==============================] - 1s 659us/step - loss: 0.0561 - accuracy: 0.9648 - precision: 0.9648 - recall: 0.9648 - auc: 0.9914 - val_loss: 0.0638 - val_accuracy: 0.9652 - val_precision: 0.9652 - val_recall: 0.9652 - val_auc: 0.9916\n",
            "Epoch 16/175\n",
            "2123/2123 [==============================] - 1s 658us/step - loss: 0.0519 - accuracy: 0.9656 - precision: 0.9656 - recall: 0.9656 - auc: 0.9919 - val_loss: 0.0923 - val_accuracy: 0.9659 - val_precision: 0.9659 - val_recall: 0.9659 - val_auc: 0.9921\n",
            "Epoch 17/175\n",
            "2123/2123 [==============================] - 1s 650us/step - loss: 0.0586 - accuracy: 0.9662 - precision: 0.9662 - recall: 0.9662 - auc: 0.9923 - val_loss: 0.0589 - val_accuracy: 0.9666 - val_precision: 0.9666 - val_recall: 0.9666 - val_auc: 0.9925\n",
            "Epoch 18/175\n",
            "2123/2123 [==============================] - 1s 656us/step - loss: 0.0450 - accuracy: 0.9670 - precision: 0.9670 - recall: 0.9670 - auc: 0.9927 - val_loss: 0.0628 - val_accuracy: 0.9674 - val_precision: 0.9674 - val_recall: 0.9674 - val_auc: 0.9929\n",
            "Epoch 19/175\n",
            "2123/2123 [==============================] - 1s 661us/step - loss: 0.0442 - accuracy: 0.9677 - precision: 0.9677 - recall: 0.9677 - auc: 0.9931 - val_loss: 0.0875 - val_accuracy: 0.9680 - val_precision: 0.9680 - val_recall: 0.9680 - val_auc: 0.9933\n",
            "Epoch 20/175\n",
            "2123/2123 [==============================] - 1s 648us/step - loss: 0.0433 - accuracy: 0.9683 - precision: 0.9683 - recall: 0.9683 - auc: 0.9934 - val_loss: 0.0631 - val_accuracy: 0.9687 - val_precision: 0.9687 - val_recall: 0.9687 - val_auc: 0.9936\n",
            "Epoch 21/175\n",
            "2123/2123 [==============================] - 1s 664us/step - loss: 0.0419 - accuracy: 0.9690 - precision: 0.9690 - recall: 0.9690 - auc: 0.9937 - val_loss: 0.0841 - val_accuracy: 0.9693 - val_precision: 0.9693 - val_recall: 0.9693 - val_auc: 0.9939\n",
            "Epoch 22/175\n",
            "2123/2123 [==============================] - 1s 651us/step - loss: 0.0427 - accuracy: 0.9696 - precision: 0.9696 - recall: 0.9696 - auc: 0.9940 - val_loss: 0.0774 - val_accuracy: 0.9698 - val_precision: 0.9698 - val_recall: 0.9698 - val_auc: 0.9941\n",
            "Epoch 23/175\n",
            "2123/2123 [==============================] - 1s 654us/step - loss: 0.0402 - accuracy: 0.9701 - precision: 0.9701 - recall: 0.9701 - auc: 0.9942 - val_loss: 0.0821 - val_accuracy: 0.9703 - val_precision: 0.9703 - val_recall: 0.9703 - val_auc: 0.9943\n",
            "Epoch 24/175\n",
            "2123/2123 [==============================] - 1s 660us/step - loss: 0.0415 - accuracy: 0.9706 - precision: 0.9706 - recall: 0.9706 - auc: 0.9944 - val_loss: 0.0694 - val_accuracy: 0.9708 - val_precision: 0.9708 - val_recall: 0.9708 - val_auc: 0.9945\n",
            "Epoch 25/175\n",
            "2123/2123 [==============================] - 1s 652us/step - loss: 0.0443 - accuracy: 0.9710 - precision: 0.9710 - recall: 0.9710 - auc: 0.9947 - val_loss: 0.0763 - val_accuracy: 0.9711 - val_precision: 0.9711 - val_recall: 0.9711 - val_auc: 0.9947\n",
            "Epoch 26/175\n",
            "2123/2123 [==============================] - 1s 646us/step - loss: 0.0391 - accuracy: 0.9714 - precision: 0.9714 - recall: 0.9714 - auc: 0.9948 - val_loss: 0.0643 - val_accuracy: 0.9715 - val_precision: 0.9715 - val_recall: 0.9715 - val_auc: 0.9949\n",
            "Epoch 27/175\n",
            "2123/2123 [==============================] - 1s 652us/step - loss: 0.0412 - accuracy: 0.9717 - precision: 0.9717 - recall: 0.9717 - auc: 0.9950 - val_loss: 0.1196 - val_accuracy: 0.9718 - val_precision: 0.9718 - val_recall: 0.9718 - val_auc: 0.9951\n",
            "Epoch 28/175\n",
            "2123/2123 [==============================] - 1s 655us/step - loss: 0.0529 - accuracy: 0.9719 - precision: 0.9719 - recall: 0.9719 - auc: 0.9951 - val_loss: 0.0698 - val_accuracy: 0.9720 - val_precision: 0.9720 - val_recall: 0.9720 - val_auc: 0.9952\n",
            "Epoch 29/175\n",
            "2123/2123 [==============================] - 1s 658us/step - loss: 0.0433 - accuracy: 0.9721 - precision: 0.9721 - recall: 0.9721 - auc: 0.9952 - val_loss: 0.0788 - val_accuracy: 0.9722 - val_precision: 0.9722 - val_recall: 0.9722 - val_auc: 0.9953\n",
            "Epoch 30/175\n",
            "2123/2123 [==============================] - 1s 654us/step - loss: 0.0468 - accuracy: 0.9724 - precision: 0.9724 - recall: 0.9724 - auc: 0.9954 - val_loss: 0.0808 - val_accuracy: 0.9726 - val_precision: 0.9726 - val_recall: 0.9726 - val_auc: 0.9954\n",
            "Epoch 31/175\n",
            "2123/2123 [==============================] - 1s 647us/step - loss: 0.0462 - accuracy: 0.9725 - precision: 0.9725 - recall: 0.9725 - auc: 0.9954 - val_loss: 0.0602 - val_accuracy: 0.9727 - val_precision: 0.9727 - val_recall: 0.9727 - val_auc: 0.9955\n",
            "Epoch 32/175\n",
            "2123/2123 [==============================] - 1s 651us/step - loss: 0.0408 - accuracy: 0.9728 - precision: 0.9728 - recall: 0.9728 - auc: 0.9956 - val_loss: 0.0760 - val_accuracy: 0.9729 - val_precision: 0.9729 - val_recall: 0.9729 - val_auc: 0.9956\n",
            "Epoch 33/175\n",
            "2123/2123 [==============================] - 1s 657us/step - loss: 0.0402 - accuracy: 0.9730 - precision: 0.9730 - recall: 0.9730 - auc: 0.9957 - val_loss: 0.0847 - val_accuracy: 0.9731 - val_precision: 0.9731 - val_recall: 0.9731 - val_auc: 0.9957\n",
            "Epoch 34/175\n",
            "2123/2123 [==============================] - 1s 666us/step - loss: 0.0393 - accuracy: 0.9732 - precision: 0.9732 - recall: 0.9732 - auc: 0.9957 - val_loss: 0.0749 - val_accuracy: 0.9734 - val_precision: 0.9734 - val_recall: 0.9734 - val_auc: 0.9958\n",
            "Epoch 35/175\n",
            "2123/2123 [==============================] - 1s 666us/step - loss: 0.0382 - accuracy: 0.9736 - precision: 0.9736 - recall: 0.9736 - auc: 0.9958 - val_loss: 0.0775 - val_accuracy: 0.9737 - val_precision: 0.9737 - val_recall: 0.9737 - val_auc: 0.9959\n",
            "Epoch 36/175\n",
            "2123/2123 [==============================] - 1s 659us/step - loss: 0.0343 - accuracy: 0.9738 - precision: 0.9738 - recall: 0.9738 - auc: 0.9959 - val_loss: 0.0756 - val_accuracy: 0.9740 - val_precision: 0.9740 - val_recall: 0.9740 - val_auc: 0.9960\n",
            "Epoch 37/175\n",
            "2123/2123 [==============================] - 1s 670us/step - loss: 0.0372 - accuracy: 0.9741 - precision: 0.9741 - recall: 0.9741 - auc: 0.9960 - val_loss: 0.0674 - val_accuracy: 0.9742 - val_precision: 0.9742 - val_recall: 0.9742 - val_auc: 0.9960\n",
            "Epoch 38/175\n",
            "2123/2123 [==============================] - 1s 662us/step - loss: 0.0548 - accuracy: 0.9743 - precision: 0.9743 - recall: 0.9743 - auc: 0.9961 - val_loss: 0.0780 - val_accuracy: 0.9743 - val_precision: 0.9743 - val_recall: 0.9743 - val_auc: 0.9961\n",
            "Epoch 39/175\n",
            "2123/2123 [==============================] - 1s 670us/step - loss: 0.0399 - accuracy: 0.9744 - precision: 0.9744 - recall: 0.9744 - auc: 0.9961 - val_loss: 0.0795 - val_accuracy: 0.9745 - val_precision: 0.9745 - val_recall: 0.9745 - val_auc: 0.9962\n",
            "Epoch 40/175\n",
            "2123/2123 [==============================] - 1s 664us/step - loss: 0.0406 - accuracy: 0.9746 - precision: 0.9746 - recall: 0.9746 - auc: 0.9962 - val_loss: 0.1108 - val_accuracy: 0.9746 - val_precision: 0.9746 - val_recall: 0.9746 - val_auc: 0.9962\n",
            "Epoch 41/175\n",
            "2123/2123 [==============================] - 1s 657us/step - loss: 0.0388 - accuracy: 0.9747 - precision: 0.9747 - recall: 0.9747 - auc: 0.9962 - val_loss: 0.0663 - val_accuracy: 0.9748 - val_precision: 0.9748 - val_recall: 0.9748 - val_auc: 0.9963\n",
            "Epoch 42/175\n",
            "2123/2123 [==============================] - 1s 647us/step - loss: 0.0340 - accuracy: 0.9749 - precision: 0.9749 - recall: 0.9749 - auc: 0.9963 - val_loss: 0.0772 - val_accuracy: 0.9750 - val_precision: 0.9750 - val_recall: 0.9750 - val_auc: 0.9963\n",
            "Epoch 43/175\n",
            "2123/2123 [==============================] - 1s 656us/step - loss: 0.0360 - accuracy: 0.9751 - precision: 0.9751 - recall: 0.9751 - auc: 0.9963 - val_loss: 0.0654 - val_accuracy: 0.9752 - val_precision: 0.9752 - val_recall: 0.9752 - val_auc: 0.9964\n",
            "Epoch 44/175\n",
            "2123/2123 [==============================] - 1s 653us/step - loss: 0.0333 - accuracy: 0.9753 - precision: 0.9753 - recall: 0.9753 - auc: 0.9964 - val_loss: 0.0915 - val_accuracy: 0.9753 - val_precision: 0.9753 - val_recall: 0.9753 - val_auc: 0.9964\n",
            "Epoch 45/175\n",
            "2123/2123 [==============================] - 1s 652us/step - loss: 0.0371 - accuracy: 0.9754 - precision: 0.9754 - recall: 0.9754 - auc: 0.9965 - val_loss: 0.0751 - val_accuracy: 0.9755 - val_precision: 0.9755 - val_recall: 0.9755 - val_auc: 0.9965\n",
            "Epoch 46/175\n",
            "2123/2123 [==============================] - 1s 645us/step - loss: 0.0339 - accuracy: 0.9756 - precision: 0.9756 - recall: 0.9756 - auc: 0.9965 - val_loss: 0.0918 - val_accuracy: 0.9757 - val_precision: 0.9757 - val_recall: 0.9757 - val_auc: 0.9965\n",
            "Epoch 47/175\n",
            "2123/2123 [==============================] - 1s 645us/step - loss: 0.0358 - accuracy: 0.9758 - precision: 0.9758 - recall: 0.9758 - auc: 0.9965 - val_loss: 0.0777 - val_accuracy: 0.9758 - val_precision: 0.9758 - val_recall: 0.9758 - val_auc: 0.9966\n",
            "Epoch 48/175\n",
            "2123/2123 [==============================] - 1s 649us/step - loss: 0.0335 - accuracy: 0.9759 - precision: 0.9759 - recall: 0.9759 - auc: 0.9966 - val_loss: 0.0704 - val_accuracy: 0.9760 - val_precision: 0.9760 - val_recall: 0.9760 - val_auc: 0.9966\n",
            "Epoch 49/175\n",
            "2123/2123 [==============================] - 1s 643us/step - loss: 0.0329 - accuracy: 0.9761 - precision: 0.9761 - recall: 0.9761 - auc: 0.9966 - val_loss: 0.0888 - val_accuracy: 0.9762 - val_precision: 0.9762 - val_recall: 0.9762 - val_auc: 0.9966\n",
            "Epoch 50/175\n",
            "2123/2123 [==============================] - 1s 651us/step - loss: 0.0323 - accuracy: 0.9762 - precision: 0.9762 - recall: 0.9762 - auc: 0.9967 - val_loss: 0.0729 - val_accuracy: 0.9763 - val_precision: 0.9763 - val_recall: 0.9763 - val_auc: 0.9967\n",
            "Epoch 51/175\n",
            "2123/2123 [==============================] - 1s 651us/step - loss: 0.0315 - accuracy: 0.9764 - precision: 0.9764 - recall: 0.9764 - auc: 0.9967 - val_loss: 0.1028 - val_accuracy: 0.9764 - val_precision: 0.9764 - val_recall: 0.9764 - val_auc: 0.9967\n",
            "Epoch 52/175\n",
            "2123/2123 [==============================] - 1s 648us/step - loss: 0.0374 - accuracy: 0.9765 - precision: 0.9765 - recall: 0.9765 - auc: 0.9968 - val_loss: 0.0593 - val_accuracy: 0.9765 - val_precision: 0.9765 - val_recall: 0.9765 - val_auc: 0.9968\n",
            "Epoch 53/175\n",
            "2123/2123 [==============================] - 1s 647us/step - loss: 0.0303 - accuracy: 0.9766 - precision: 0.9766 - recall: 0.9766 - auc: 0.9968 - val_loss: 0.0852 - val_accuracy: 0.9767 - val_precision: 0.9767 - val_recall: 0.9767 - val_auc: 0.9968\n",
            "Epoch 54/175\n",
            "2123/2123 [==============================] - 1s 651us/step - loss: 0.0321 - accuracy: 0.9768 - precision: 0.9768 - recall: 0.9768 - auc: 0.9968 - val_loss: 0.0663 - val_accuracy: 0.9769 - val_precision: 0.9769 - val_recall: 0.9769 - val_auc: 0.9968\n",
            "Epoch 55/175\n",
            "2123/2123 [==============================] - 1s 652us/step - loss: 0.0327 - accuracy: 0.9770 - precision: 0.9770 - recall: 0.9770 - auc: 0.9969 - val_loss: 0.0748 - val_accuracy: 0.9770 - val_precision: 0.9770 - val_recall: 0.9770 - val_auc: 0.9969\n",
            "Epoch 56/175\n",
            "2123/2123 [==============================] - 1s 659us/step - loss: 0.0361 - accuracy: 0.9771 - precision: 0.9771 - recall: 0.9771 - auc: 0.9969 - val_loss: 0.1300 - val_accuracy: 0.9771 - val_precision: 0.9771 - val_recall: 0.9771 - val_auc: 0.9969\n",
            "Epoch 57/175\n",
            "2123/2123 [==============================] - 1s 654us/step - loss: 0.0453 - accuracy: 0.9771 - precision: 0.9771 - recall: 0.9771 - auc: 0.9969 - val_loss: 0.0760 - val_accuracy: 0.9772 - val_precision: 0.9772 - val_recall: 0.9772 - val_auc: 0.9969\n",
            "Epoch 58/175\n",
            "2123/2123 [==============================] - 1s 647us/step - loss: 0.0335 - accuracy: 0.9772 - precision: 0.9772 - recall: 0.9772 - auc: 0.9969 - val_loss: 0.0985 - val_accuracy: 0.9773 - val_precision: 0.9773 - val_recall: 0.9773 - val_auc: 0.9969\n",
            "Epoch 59/175\n",
            "2123/2123 [==============================] - 1s 651us/step - loss: 0.0331 - accuracy: 0.9774 - precision: 0.9774 - recall: 0.9774 - auc: 0.9970 - val_loss: 0.0928 - val_accuracy: 0.9774 - val_precision: 0.9774 - val_recall: 0.9774 - val_auc: 0.9970\n",
            "Epoch 60/175\n",
            "2123/2123 [==============================] - 1s 646us/step - loss: 0.0376 - accuracy: 0.9775 - precision: 0.9775 - recall: 0.9775 - auc: 0.9970 - val_loss: 0.0774 - val_accuracy: 0.9775 - val_precision: 0.9775 - val_recall: 0.9775 - val_auc: 0.9970\n",
            "Epoch 61/175\n",
            "2123/2123 [==============================] - 1s 653us/step - loss: 0.0314 - accuracy: 0.9776 - precision: 0.9776 - recall: 0.9776 - auc: 0.9970 - val_loss: 0.1035 - val_accuracy: 0.9776 - val_precision: 0.9776 - val_recall: 0.9776 - val_auc: 0.9970\n",
            "Epoch 62/175\n",
            "2123/2123 [==============================] - 1s 643us/step - loss: 0.0313 - accuracy: 0.9777 - precision: 0.9777 - recall: 0.9777 - auc: 0.9970 - val_loss: 0.0845 - val_accuracy: 0.9777 - val_precision: 0.9777 - val_recall: 0.9777 - val_auc: 0.9970\n",
            "Epoch 63/175\n",
            "2123/2123 [==============================] - 1s 643us/step - loss: 0.0314 - accuracy: 0.9778 - precision: 0.9778 - recall: 0.9778 - auc: 0.9971 - val_loss: 0.0971 - val_accuracy: 0.9779 - val_precision: 0.9779 - val_recall: 0.9779 - val_auc: 0.9971\n",
            "Epoch 64/175\n",
            "2123/2123 [==============================] - 1s 651us/step - loss: 0.0286 - accuracy: 0.9779 - precision: 0.9779 - recall: 0.9779 - auc: 0.9971 - val_loss: 0.0783 - val_accuracy: 0.9780 - val_precision: 0.9780 - val_recall: 0.9780 - val_auc: 0.9971\n",
            "Epoch 65/175\n",
            "2123/2123 [==============================] - 1s 651us/step - loss: 0.0281 - accuracy: 0.9780 - precision: 0.9780 - recall: 0.9780 - auc: 0.9971 - val_loss: 0.0801 - val_accuracy: 0.9781 - val_precision: 0.9781 - val_recall: 0.9781 - val_auc: 0.9971\n",
            "Epoch 66/175\n",
            "2123/2123 [==============================] - 1s 648us/step - loss: 0.0325 - accuracy: 0.9781 - precision: 0.9781 - recall: 0.9781 - auc: 0.9971 - val_loss: 0.0968 - val_accuracy: 0.9782 - val_precision: 0.9782 - val_recall: 0.9782 - val_auc: 0.9971\n",
            "Epoch 67/175\n",
            "2123/2123 [==============================] - 1s 646us/step - loss: 0.0335 - accuracy: 0.9782 - precision: 0.9782 - recall: 0.9782 - auc: 0.9971 - val_loss: 0.0666 - val_accuracy: 0.9783 - val_precision: 0.9783 - val_recall: 0.9783 - val_auc: 0.9971\n",
            "Epoch 68/175\n",
            "2123/2123 [==============================] - 1s 650us/step - loss: 0.0307 - accuracy: 0.9783 - precision: 0.9783 - recall: 0.9783 - auc: 0.9972 - val_loss: 0.0685 - val_accuracy: 0.9784 - val_precision: 0.9784 - val_recall: 0.9784 - val_auc: 0.9972\n",
            "Epoch 69/175\n",
            "2123/2123 [==============================] - 1s 647us/step - loss: 0.0308 - accuracy: 0.9785 - precision: 0.9785 - recall: 0.9785 - auc: 0.9972 - val_loss: 0.0747 - val_accuracy: 0.9785 - val_precision: 0.9785 - val_recall: 0.9785 - val_auc: 0.9972\n",
            "Epoch 70/175\n",
            "2123/2123 [==============================] - 1s 654us/step - loss: 0.0321 - accuracy: 0.9786 - precision: 0.9786 - recall: 0.9786 - auc: 0.9972 - val_loss: 0.0793 - val_accuracy: 0.9786 - val_precision: 0.9786 - val_recall: 0.9786 - val_auc: 0.9972\n",
            "Epoch 71/175\n",
            "2123/2123 [==============================] - 1s 650us/step - loss: 0.0279 - accuracy: 0.9787 - precision: 0.9787 - recall: 0.9787 - auc: 0.9972 - val_loss: 0.0785 - val_accuracy: 0.9787 - val_precision: 0.9787 - val_recall: 0.9787 - val_auc: 0.9972\n",
            "Epoch 72/175\n",
            "2123/2123 [==============================] - 1s 643us/step - loss: 0.0267 - accuracy: 0.9788 - precision: 0.9788 - recall: 0.9788 - auc: 0.9972 - val_loss: 0.0804 - val_accuracy: 0.9789 - val_precision: 0.9789 - val_recall: 0.9789 - val_auc: 0.9973\n",
            "Epoch 73/175\n",
            "2123/2123 [==============================] - 1s 660us/step - loss: 0.0318 - accuracy: 0.9789 - precision: 0.9789 - recall: 0.9789 - auc: 0.9973 - val_loss: 0.0803 - val_accuracy: 0.9789 - val_precision: 0.9789 - val_recall: 0.9789 - val_auc: 0.9973\n",
            "Epoch 74/175\n",
            "2123/2123 [==============================] - 1s 654us/step - loss: 0.0301 - accuracy: 0.9790 - precision: 0.9790 - recall: 0.9790 - auc: 0.9973 - val_loss: 0.0762 - val_accuracy: 0.9790 - val_precision: 0.9790 - val_recall: 0.9790 - val_auc: 0.9973\n",
            "Epoch 75/175\n",
            "2123/2123 [==============================] - 1s 651us/step - loss: 0.0286 - accuracy: 0.9790 - precision: 0.9790 - recall: 0.9790 - auc: 0.9973 - val_loss: 0.1626 - val_accuracy: 0.9791 - val_precision: 0.9791 - val_recall: 0.9791 - val_auc: 0.9973\n",
            "Epoch 76/175\n",
            "2123/2123 [==============================] - 1s 650us/step - loss: 0.0339 - accuracy: 0.9791 - precision: 0.9791 - recall: 0.9791 - auc: 0.9973 - val_loss: 0.0852 - val_accuracy: 0.9792 - val_precision: 0.9792 - val_recall: 0.9792 - val_auc: 0.9973\n",
            "Epoch 77/175\n",
            "2123/2123 [==============================] - 1s 656us/step - loss: 0.0301 - accuracy: 0.9792 - precision: 0.9792 - recall: 0.9792 - auc: 0.9973 - val_loss: 0.0763 - val_accuracy: 0.9793 - val_precision: 0.9793 - val_recall: 0.9793 - val_auc: 0.9973\n",
            "Epoch 78/175\n",
            "2123/2123 [==============================] - 1s 651us/step - loss: 0.0314 - accuracy: 0.9793 - precision: 0.9793 - recall: 0.9793 - auc: 0.9973 - val_loss: 0.0713 - val_accuracy: 0.9794 - val_precision: 0.9794 - val_recall: 0.9794 - val_auc: 0.9973\n",
            "Epoch 79/175\n",
            "2123/2123 [==============================] - 1s 650us/step - loss: 0.0262 - accuracy: 0.9794 - precision: 0.9794 - recall: 0.9794 - auc: 0.9973 - val_loss: 0.0850 - val_accuracy: 0.9794 - val_precision: 0.9794 - val_recall: 0.9794 - val_auc: 0.9973\n",
            "Epoch 80/175\n",
            "2123/2123 [==============================] - 1s 660us/step - loss: 0.0256 - accuracy: 0.9795 - precision: 0.9795 - recall: 0.9795 - auc: 0.9973 - val_loss: 0.0763 - val_accuracy: 0.9795 - val_precision: 0.9795 - val_recall: 0.9795 - val_auc: 0.9974\n",
            "Epoch 81/175\n",
            "2123/2123 [==============================] - 1s 659us/step - loss: 0.0280 - accuracy: 0.9796 - precision: 0.9796 - recall: 0.9796 - auc: 0.9974 - val_loss: 0.0855 - val_accuracy: 0.9796 - val_precision: 0.9796 - val_recall: 0.9796 - val_auc: 0.9974\n",
            "Epoch 82/175\n",
            "2123/2123 [==============================] - 1s 654us/step - loss: 0.0282 - accuracy: 0.9796 - precision: 0.9796 - recall: 0.9796 - auc: 0.9974 - val_loss: 0.0767 - val_accuracy: 0.9797 - val_precision: 0.9797 - val_recall: 0.9797 - val_auc: 0.9974\n",
            "Epoch 83/175\n",
            "2123/2123 [==============================] - 1s 660us/step - loss: 0.0328 - accuracy: 0.9797 - precision: 0.9797 - recall: 0.9797 - auc: 0.9974 - val_loss: 0.0824 - val_accuracy: 0.9797 - val_precision: 0.9797 - val_recall: 0.9797 - val_auc: 0.9974\n",
            "Epoch 84/175\n",
            "2123/2123 [==============================] - 1s 662us/step - loss: 0.0272 - accuracy: 0.9798 - precision: 0.9798 - recall: 0.9798 - auc: 0.9974 - val_loss: 0.0716 - val_accuracy: 0.9798 - val_precision: 0.9798 - val_recall: 0.9798 - val_auc: 0.9974\n",
            "Epoch 85/175\n",
            "2123/2123 [==============================] - 1s 656us/step - loss: 0.0254 - accuracy: 0.9799 - precision: 0.9799 - recall: 0.9799 - auc: 0.9974 - val_loss: 0.0829 - val_accuracy: 0.9799 - val_precision: 0.9799 - val_recall: 0.9799 - val_auc: 0.9974\n",
            "Epoch 86/175\n",
            "2123/2123 [==============================] - 1s 647us/step - loss: 0.0351 - accuracy: 0.9799 - precision: 0.9799 - recall: 0.9799 - auc: 0.9974 - val_loss: 0.0844 - val_accuracy: 0.9799 - val_precision: 0.9799 - val_recall: 0.9799 - val_auc: 0.9974\n",
            "Epoch 87/175\n",
            "2123/2123 [==============================] - 1s 653us/step - loss: 0.0261 - accuracy: 0.9800 - precision: 0.9800 - recall: 0.9800 - auc: 0.9974 - val_loss: 0.0906 - val_accuracy: 0.9800 - val_precision: 0.9800 - val_recall: 0.9800 - val_auc: 0.9974\n",
            "Epoch 88/175\n",
            "2123/2123 [==============================] - 1s 656us/step - loss: 0.0254 - accuracy: 0.9801 - precision: 0.9801 - recall: 0.9801 - auc: 0.9975 - val_loss: 0.0703 - val_accuracy: 0.9801 - val_precision: 0.9801 - val_recall: 0.9801 - val_auc: 0.9975\n",
            "Epoch 89/175\n",
            "2123/2123 [==============================] - 1s 654us/step - loss: 0.0280 - accuracy: 0.9801 - precision: 0.9801 - recall: 0.9801 - auc: 0.9975 - val_loss: 0.0980 - val_accuracy: 0.9802 - val_precision: 0.9802 - val_recall: 0.9802 - val_auc: 0.9975\n",
            "Epoch 90/175\n",
            "2123/2123 [==============================] - 1s 663us/step - loss: 0.0278 - accuracy: 0.9802 - precision: 0.9802 - recall: 0.9802 - auc: 0.9975 - val_loss: 0.0768 - val_accuracy: 0.9802 - val_precision: 0.9802 - val_recall: 0.9802 - val_auc: 0.9975\n",
            "Epoch 91/175\n",
            "2123/2123 [==============================] - 1s 657us/step - loss: 0.0265 - accuracy: 0.9803 - precision: 0.9803 - recall: 0.9803 - auc: 0.9975 - val_loss: 0.0707 - val_accuracy: 0.9803 - val_precision: 0.9803 - val_recall: 0.9803 - val_auc: 0.9975\n",
            "Epoch 92/175\n",
            "2123/2123 [==============================] - 1s 657us/step - loss: 0.0279 - accuracy: 0.9803 - precision: 0.9803 - recall: 0.9803 - auc: 0.9975 - val_loss: 0.0844 - val_accuracy: 0.9804 - val_precision: 0.9804 - val_recall: 0.9804 - val_auc: 0.9975\n",
            "Epoch 93/175\n",
            "2123/2123 [==============================] - 1s 648us/step - loss: 0.0255 - accuracy: 0.9804 - precision: 0.9804 - recall: 0.9804 - auc: 0.9975 - val_loss: 0.0794 - val_accuracy: 0.9805 - val_precision: 0.9805 - val_recall: 0.9805 - val_auc: 0.9975\n",
            "Epoch 94/175\n",
            "2123/2123 [==============================] - 1s 657us/step - loss: 0.0304 - accuracy: 0.9805 - precision: 0.9805 - recall: 0.9805 - auc: 0.9975 - val_loss: 0.0862 - val_accuracy: 0.9805 - val_precision: 0.9805 - val_recall: 0.9805 - val_auc: 0.9975\n",
            "Epoch 95/175\n",
            "2123/2123 [==============================] - 1s 655us/step - loss: 0.0285 - accuracy: 0.9805 - precision: 0.9805 - recall: 0.9805 - auc: 0.9975 - val_loss: 0.0749 - val_accuracy: 0.9805 - val_precision: 0.9805 - val_recall: 0.9805 - val_auc: 0.9975\n",
            "Epoch 96/175\n",
            "2123/2123 [==============================] - 1s 651us/step - loss: 0.0263 - accuracy: 0.9806 - precision: 0.9806 - recall: 0.9806 - auc: 0.9976 - val_loss: 0.0839 - val_accuracy: 0.9806 - val_precision: 0.9806 - val_recall: 0.9806 - val_auc: 0.9976\n",
            "Epoch 97/175\n",
            "2123/2123 [==============================] - 1s 648us/step - loss: 0.0247 - accuracy: 0.9806 - precision: 0.9806 - recall: 0.9806 - auc: 0.9976 - val_loss: 0.0869 - val_accuracy: 0.9807 - val_precision: 0.9807 - val_recall: 0.9807 - val_auc: 0.9976\n",
            "Epoch 98/175\n",
            "2123/2123 [==============================] - 1s 660us/step - loss: 0.0233 - accuracy: 0.9807 - precision: 0.9807 - recall: 0.9807 - auc: 0.9976 - val_loss: 0.0880 - val_accuracy: 0.9807 - val_precision: 0.9807 - val_recall: 0.9807 - val_auc: 0.9976\n",
            "Epoch 99/175\n",
            "2123/2123 [==============================] - 1s 653us/step - loss: 0.0279 - accuracy: 0.9808 - precision: 0.9808 - recall: 0.9808 - auc: 0.9976 - val_loss: 0.0873 - val_accuracy: 0.9808 - val_precision: 0.9808 - val_recall: 0.9808 - val_auc: 0.9976\n",
            "Epoch 100/175\n",
            "2123/2123 [==============================] - 1s 660us/step - loss: 0.0277 - accuracy: 0.9808 - precision: 0.9808 - recall: 0.9808 - auc: 0.9976 - val_loss: 0.0796 - val_accuracy: 0.9808 - val_precision: 0.9808 - val_recall: 0.9808 - val_auc: 0.9976\n",
            "Epoch 101/175\n",
            "2123/2123 [==============================] - 1s 651us/step - loss: 0.0260 - accuracy: 0.9809 - precision: 0.9809 - recall: 0.9809 - auc: 0.9976 - val_loss: 0.1086 - val_accuracy: 0.9809 - val_precision: 0.9809 - val_recall: 0.9809 - val_auc: 0.9976\n",
            "Epoch 102/175\n",
            "2123/2123 [==============================] - 1s 654us/step - loss: 0.0273 - accuracy: 0.9809 - precision: 0.9809 - recall: 0.9809 - auc: 0.9976 - val_loss: 0.0917 - val_accuracy: 0.9810 - val_precision: 0.9810 - val_recall: 0.9810 - val_auc: 0.9976\n",
            "Epoch 103/175\n",
            "2123/2123 [==============================] - 1s 651us/step - loss: 0.0242 - accuracy: 0.9810 - precision: 0.9810 - recall: 0.9810 - auc: 0.9976 - val_loss: 0.0776 - val_accuracy: 0.9810 - val_precision: 0.9810 - val_recall: 0.9810 - val_auc: 0.9976\n",
            "Epoch 104/175\n",
            "2123/2123 [==============================] - 1s 652us/step - loss: 0.0342 - accuracy: 0.9811 - precision: 0.9811 - recall: 0.9811 - auc: 0.9976 - val_loss: 0.0746 - val_accuracy: 0.9811 - val_precision: 0.9811 - val_recall: 0.9811 - val_auc: 0.9976\n",
            "Epoch 105/175\n",
            "2123/2123 [==============================] - 1s 652us/step - loss: 0.0247 - accuracy: 0.9811 - precision: 0.9811 - recall: 0.9811 - auc: 0.9976 - val_loss: 0.1107 - val_accuracy: 0.9811 - val_precision: 0.9811 - val_recall: 0.9811 - val_auc: 0.9976\n",
            "Epoch 106/175\n",
            "2123/2123 [==============================] - 1s 648us/step - loss: 0.0247 - accuracy: 0.9812 - precision: 0.9812 - recall: 0.9812 - auc: 0.9976 - val_loss: 0.1014 - val_accuracy: 0.9812 - val_precision: 0.9812 - val_recall: 0.9812 - val_auc: 0.9976\n",
            "Epoch 107/175\n",
            "2123/2123 [==============================] - 1s 646us/step - loss: 0.0241 - accuracy: 0.9812 - precision: 0.9812 - recall: 0.9812 - auc: 0.9977 - val_loss: 0.0796 - val_accuracy: 0.9813 - val_precision: 0.9813 - val_recall: 0.9813 - val_auc: 0.9977\n",
            "Epoch 108/175\n",
            "2123/2123 [==============================] - 1s 651us/step - loss: 0.0234 - accuracy: 0.9813 - precision: 0.9813 - recall: 0.9813 - auc: 0.9977 - val_loss: 0.0868 - val_accuracy: 0.9813 - val_precision: 0.9813 - val_recall: 0.9813 - val_auc: 0.9977\n",
            "Epoch 109/175\n",
            "2123/2123 [==============================] - 1s 653us/step - loss: 0.0227 - accuracy: 0.9814 - precision: 0.9814 - recall: 0.9814 - auc: 0.9977 - val_loss: 0.1025 - val_accuracy: 0.9814 - val_precision: 0.9814 - val_recall: 0.9814 - val_auc: 0.9977\n",
            "Epoch 110/175\n",
            "2123/2123 [==============================] - 1s 667us/step - loss: 0.0215 - accuracy: 0.9814 - precision: 0.9814 - recall: 0.9814 - auc: 0.9977 - val_loss: 0.0818 - val_accuracy: 0.9815 - val_precision: 0.9815 - val_recall: 0.9815 - val_auc: 0.9977\n",
            "Epoch 111/175\n",
            "2123/2123 [==============================] - 1s 657us/step - loss: 0.0239 - accuracy: 0.9815 - precision: 0.9815 - recall: 0.9815 - auc: 0.9977 - val_loss: 0.1172 - val_accuracy: 0.9815 - val_precision: 0.9815 - val_recall: 0.9815 - val_auc: 0.9977\n",
            "Epoch 112/175\n",
            "2123/2123 [==============================] - 1s 645us/step - loss: 0.0235 - accuracy: 0.9815 - precision: 0.9815 - recall: 0.9815 - auc: 0.9977 - val_loss: 0.0866 - val_accuracy: 0.9816 - val_precision: 0.9816 - val_recall: 0.9816 - val_auc: 0.9977\n",
            "Epoch 113/175\n",
            "2123/2123 [==============================] - 1s 656us/step - loss: 0.0216 - accuracy: 0.9816 - precision: 0.9816 - recall: 0.9816 - auc: 0.9977 - val_loss: 0.0912 - val_accuracy: 0.9816 - val_precision: 0.9816 - val_recall: 0.9816 - val_auc: 0.9977\n",
            "Epoch 114/175\n",
            "2123/2123 [==============================] - 1s 665us/step - loss: 0.0243 - accuracy: 0.9816 - precision: 0.9816 - recall: 0.9816 - auc: 0.9977 - val_loss: 0.0902 - val_accuracy: 0.9817 - val_precision: 0.9817 - val_recall: 0.9817 - val_auc: 0.9977\n",
            "Epoch 115/175\n",
            "2123/2123 [==============================] - 1s 658us/step - loss: 0.0241 - accuracy: 0.9817 - precision: 0.9817 - recall: 0.9817 - auc: 0.9977 - val_loss: 0.0902 - val_accuracy: 0.9817 - val_precision: 0.9817 - val_recall: 0.9817 - val_auc: 0.9977\n",
            "Epoch 116/175\n",
            "2123/2123 [==============================] - 1s 651us/step - loss: 0.0244 - accuracy: 0.9817 - precision: 0.9817 - recall: 0.9817 - auc: 0.9977 - val_loss: 0.0921 - val_accuracy: 0.9818 - val_precision: 0.9818 - val_recall: 0.9818 - val_auc: 0.9977\n",
            "Epoch 117/175\n",
            "2123/2123 [==============================] - 1s 649us/step - loss: 0.0269 - accuracy: 0.9818 - precision: 0.9818 - recall: 0.9818 - auc: 0.9977 - val_loss: 0.0771 - val_accuracy: 0.9818 - val_precision: 0.9818 - val_recall: 0.9818 - val_auc: 0.9977\n",
            "Epoch 118/175\n",
            "2123/2123 [==============================] - 1s 649us/step - loss: 0.0215 - accuracy: 0.9819 - precision: 0.9819 - recall: 0.9819 - auc: 0.9977 - val_loss: 0.0797 - val_accuracy: 0.9819 - val_precision: 0.9819 - val_recall: 0.9819 - val_auc: 0.9977\n",
            "Epoch 119/175\n",
            "2123/2123 [==============================] - 1s 653us/step - loss: 0.0199 - accuracy: 0.9819 - precision: 0.9819 - recall: 0.9819 - auc: 0.9978 - val_loss: 0.0865 - val_accuracy: 0.9820 - val_precision: 0.9820 - val_recall: 0.9820 - val_auc: 0.9978\n",
            "Epoch 120/175\n",
            "2123/2123 [==============================] - 1s 653us/step - loss: 0.0194 - accuracy: 0.9820 - precision: 0.9820 - recall: 0.9820 - auc: 0.9978 - val_loss: 0.0980 - val_accuracy: 0.9820 - val_precision: 0.9820 - val_recall: 0.9820 - val_auc: 0.9978\n",
            "Epoch 121/175\n",
            "2123/2123 [==============================] - 1s 657us/step - loss: 0.0204 - accuracy: 0.9820 - precision: 0.9820 - recall: 0.9820 - auc: 0.9978 - val_loss: 0.1138 - val_accuracy: 0.9821 - val_precision: 0.9821 - val_recall: 0.9821 - val_auc: 0.9978\n",
            "Epoch 122/175\n",
            "2123/2123 [==============================] - 1s 651us/step - loss: 0.0276 - accuracy: 0.9821 - precision: 0.9821 - recall: 0.9821 - auc: 0.9978 - val_loss: 0.0886 - val_accuracy: 0.9821 - val_precision: 0.9821 - val_recall: 0.9821 - val_auc: 0.9978\n",
            "Epoch 123/175\n",
            "2123/2123 [==============================] - 1s 653us/step - loss: 0.0212 - accuracy: 0.9821 - precision: 0.9821 - recall: 0.9821 - auc: 0.9978 - val_loss: 0.0908 - val_accuracy: 0.9822 - val_precision: 0.9822 - val_recall: 0.9822 - val_auc: 0.9978\n",
            "Epoch 124/175\n",
            "2123/2123 [==============================] - 1s 656us/step - loss: 0.0203 - accuracy: 0.9822 - precision: 0.9822 - recall: 0.9822 - auc: 0.9978 - val_loss: 0.1047 - val_accuracy: 0.9822 - val_precision: 0.9822 - val_recall: 0.9822 - val_auc: 0.9978\n",
            "Epoch 125/175\n",
            "2123/2123 [==============================] - 1s 657us/step - loss: 0.0204 - accuracy: 0.9823 - precision: 0.9823 - recall: 0.9823 - auc: 0.9978 - val_loss: 0.0961 - val_accuracy: 0.9823 - val_precision: 0.9823 - val_recall: 0.9823 - val_auc: 0.9978\n",
            "Epoch 126/175\n",
            "2123/2123 [==============================] - 1s 655us/step - loss: 0.0211 - accuracy: 0.9823 - precision: 0.9823 - recall: 0.9823 - auc: 0.9978 - val_loss: 0.1129 - val_accuracy: 0.9823 - val_precision: 0.9823 - val_recall: 0.9823 - val_auc: 0.9978\n",
            "Epoch 127/175\n",
            "2123/2123 [==============================] - 1s 659us/step - loss: 0.0236 - accuracy: 0.9824 - precision: 0.9824 - recall: 0.9824 - auc: 0.9978 - val_loss: 0.0913 - val_accuracy: 0.9824 - val_precision: 0.9824 - val_recall: 0.9824 - val_auc: 0.9978\n",
            "Epoch 128/175\n",
            "2123/2123 [==============================] - 1s 649us/step - loss: 0.0223 - accuracy: 0.9824 - precision: 0.9824 - recall: 0.9824 - auc: 0.9978 - val_loss: 0.1107 - val_accuracy: 0.9824 - val_precision: 0.9824 - val_recall: 0.9824 - val_auc: 0.9978\n",
            "Epoch 129/175\n",
            "2123/2123 [==============================] - 1s 649us/step - loss: 0.0218 - accuracy: 0.9825 - precision: 0.9825 - recall: 0.9825 - auc: 0.9978 - val_loss: 0.0925 - val_accuracy: 0.9825 - val_precision: 0.9825 - val_recall: 0.9825 - val_auc: 0.9978\n",
            "Epoch 130/175\n",
            "2123/2123 [==============================] - 1s 650us/step - loss: 0.0186 - accuracy: 0.9825 - precision: 0.9825 - recall: 0.9825 - auc: 0.9978 - val_loss: 0.0811 - val_accuracy: 0.9825 - val_precision: 0.9825 - val_recall: 0.9825 - val_auc: 0.9978\n",
            "Epoch 131/175\n",
            "2123/2123 [==============================] - 1s 645us/step - loss: 0.0266 - accuracy: 0.9826 - precision: 0.9826 - recall: 0.9826 - auc: 0.9978 - val_loss: 0.0881 - val_accuracy: 0.9826 - val_precision: 0.9826 - val_recall: 0.9826 - val_auc: 0.9978\n",
            "Epoch 132/175\n",
            "2123/2123 [==============================] - 1s 652us/step - loss: 0.0221 - accuracy: 0.9826 - precision: 0.9826 - recall: 0.9826 - auc: 0.9978 - val_loss: 0.0958 - val_accuracy: 0.9826 - val_precision: 0.9826 - val_recall: 0.9826 - val_auc: 0.9978\n",
            "Epoch 133/175\n",
            "2123/2123 [==============================] - 1s 657us/step - loss: 0.0193 - accuracy: 0.9827 - precision: 0.9827 - recall: 0.9827 - auc: 0.9978 - val_loss: 0.0931 - val_accuracy: 0.9827 - val_precision: 0.9827 - val_recall: 0.9827 - val_auc: 0.9978\n",
            "Epoch 134/175\n",
            "2123/2123 [==============================] - 1s 656us/step - loss: 0.0181 - accuracy: 0.9827 - precision: 0.9827 - recall: 0.9827 - auc: 0.9978 - val_loss: 0.0993 - val_accuracy: 0.9828 - val_precision: 0.9828 - val_recall: 0.9828 - val_auc: 0.9978\n",
            "Epoch 135/175\n",
            "2123/2123 [==============================] - 1s 647us/step - loss: 0.0186 - accuracy: 0.9828 - precision: 0.9828 - recall: 0.9828 - auc: 0.9978 - val_loss: 0.0962 - val_accuracy: 0.9828 - val_precision: 0.9828 - val_recall: 0.9828 - val_auc: 0.9978\n",
            "Epoch 136/175\n",
            "2123/2123 [==============================] - 1s 656us/step - loss: 0.0193 - accuracy: 0.9829 - precision: 0.9829 - recall: 0.9829 - auc: 0.9978 - val_loss: 0.0953 - val_accuracy: 0.9829 - val_precision: 0.9829 - val_recall: 0.9829 - val_auc: 0.9979\n",
            "Epoch 137/175\n",
            "2123/2123 [==============================] - 1s 651us/step - loss: 0.0176 - accuracy: 0.9829 - precision: 0.9829 - recall: 0.9829 - auc: 0.9979 - val_loss: 0.1282 - val_accuracy: 0.9829 - val_precision: 0.9829 - val_recall: 0.9829 - val_auc: 0.9979\n",
            "Epoch 138/175\n",
            "2123/2123 [==============================] - 1s 661us/step - loss: 0.0219 - accuracy: 0.9830 - precision: 0.9830 - recall: 0.9830 - auc: 0.9979 - val_loss: 0.0798 - val_accuracy: 0.9830 - val_precision: 0.9830 - val_recall: 0.9830 - val_auc: 0.9979\n",
            "Epoch 139/175\n",
            "2123/2123 [==============================] - 1s 652us/step - loss: 0.0167 - accuracy: 0.9830 - precision: 0.9830 - recall: 0.9830 - auc: 0.9979 - val_loss: 0.1110 - val_accuracy: 0.9830 - val_precision: 0.9830 - val_recall: 0.9830 - val_auc: 0.9979\n",
            "Epoch 140/175\n",
            "2123/2123 [==============================] - 1s 649us/step - loss: 0.0159 - accuracy: 0.9831 - precision: 0.9831 - recall: 0.9831 - auc: 0.9979 - val_loss: 0.0978 - val_accuracy: 0.9831 - val_precision: 0.9831 - val_recall: 0.9831 - val_auc: 0.9979\n",
            "Epoch 141/175\n",
            "2123/2123 [==============================] - 1s 648us/step - loss: 0.0187 - accuracy: 0.9831 - precision: 0.9831 - recall: 0.9831 - auc: 0.9979 - val_loss: 0.1223 - val_accuracy: 0.9831 - val_precision: 0.9831 - val_recall: 0.9831 - val_auc: 0.9979\n",
            "Epoch 142/175\n",
            "2123/2123 [==============================] - 1s 653us/step - loss: 0.0171 - accuracy: 0.9832 - precision: 0.9832 - recall: 0.9832 - auc: 0.9979 - val_loss: 0.1194 - val_accuracy: 0.9832 - val_precision: 0.9832 - val_recall: 0.9832 - val_auc: 0.9979\n",
            "Epoch 143/175\n",
            "2123/2123 [==============================] - 1s 653us/step - loss: 0.0175 - accuracy: 0.9832 - precision: 0.9832 - recall: 0.9832 - auc: 0.9979 - val_loss: 0.1293 - val_accuracy: 0.9832 - val_precision: 0.9832 - val_recall: 0.9832 - val_auc: 0.9979\n",
            "Epoch 144/175\n",
            "2123/2123 [==============================] - 1s 655us/step - loss: 0.0179 - accuracy: 0.9833 - precision: 0.9833 - recall: 0.9833 - auc: 0.9979 - val_loss: 0.1049 - val_accuracy: 0.9833 - val_precision: 0.9833 - val_recall: 0.9833 - val_auc: 0.9979\n",
            "Epoch 145/175\n",
            "2123/2123 [==============================] - 1s 655us/step - loss: 0.0200 - accuracy: 0.9833 - precision: 0.9833 - recall: 0.9833 - auc: 0.9979 - val_loss: 0.1232 - val_accuracy: 0.9833 - val_precision: 0.9833 - val_recall: 0.9833 - val_auc: 0.9979\n",
            "Epoch 146/175\n",
            "2123/2123 [==============================] - 1s 654us/step - loss: 0.0184 - accuracy: 0.9834 - precision: 0.9834 - recall: 0.9834 - auc: 0.9979 - val_loss: 0.1067 - val_accuracy: 0.9834 - val_precision: 0.9834 - val_recall: 0.9834 - val_auc: 0.9979\n",
            "Epoch 147/175\n",
            "2123/2123 [==============================] - 1s 654us/step - loss: 0.0148 - accuracy: 0.9834 - precision: 0.9834 - recall: 0.9834 - auc: 0.9979 - val_loss: 0.1376 - val_accuracy: 0.9834 - val_precision: 0.9834 - val_recall: 0.9834 - val_auc: 0.9979\n",
            "Epoch 148/175\n",
            "2123/2123 [==============================] - 1s 650us/step - loss: 0.0169 - accuracy: 0.9835 - precision: 0.9835 - recall: 0.9835 - auc: 0.9979 - val_loss: 0.1178 - val_accuracy: 0.9835 - val_precision: 0.9835 - val_recall: 0.9835 - val_auc: 0.9979\n",
            "Epoch 149/175\n",
            "2123/2123 [==============================] - 1s 663us/step - loss: 0.0167 - accuracy: 0.9835 - precision: 0.9835 - recall: 0.9835 - auc: 0.9979 - val_loss: 0.0983 - val_accuracy: 0.9835 - val_precision: 0.9835 - val_recall: 0.9835 - val_auc: 0.9979\n",
            "Epoch 150/175\n",
            "2123/2123 [==============================] - 1s 665us/step - loss: 0.0152 - accuracy: 0.9836 - precision: 0.9836 - recall: 0.9836 - auc: 0.9979 - val_loss: 0.1188 - val_accuracy: 0.9836 - val_precision: 0.9836 - val_recall: 0.9836 - val_auc: 0.9979\n",
            "Epoch 151/175\n",
            "2123/2123 [==============================] - 1s 650us/step - loss: 0.0135 - accuracy: 0.9836 - precision: 0.9836 - recall: 0.9836 - auc: 0.9979 - val_loss: 0.1117 - val_accuracy: 0.9836 - val_precision: 0.9836 - val_recall: 0.9836 - val_auc: 0.9979\n",
            "Epoch 152/175\n",
            "2123/2123 [==============================] - 1s 659us/step - loss: 0.0136 - accuracy: 0.9837 - precision: 0.9837 - recall: 0.9837 - auc: 0.9979 - val_loss: 0.1143 - val_accuracy: 0.9837 - val_precision: 0.9837 - val_recall: 0.9837 - val_auc: 0.9979\n",
            "Epoch 153/175\n",
            "2123/2123 [==============================] - 1s 663us/step - loss: 0.0132 - accuracy: 0.9837 - precision: 0.9837 - recall: 0.9837 - auc: 0.9979 - val_loss: 0.1095 - val_accuracy: 0.9838 - val_precision: 0.9838 - val_recall: 0.9838 - val_auc: 0.9979\n",
            "Epoch 154/175\n",
            "2123/2123 [==============================] - 1s 656us/step - loss: 0.0134 - accuracy: 0.9838 - precision: 0.9838 - recall: 0.9838 - auc: 0.9979 - val_loss: 0.1211 - val_accuracy: 0.9838 - val_precision: 0.9838 - val_recall: 0.9838 - val_auc: 0.9979\n",
            "Epoch 155/175\n",
            "2123/2123 [==============================] - 1s 661us/step - loss: 0.0121 - accuracy: 0.9838 - precision: 0.9838 - recall: 0.9838 - auc: 0.9979 - val_loss: 0.1214 - val_accuracy: 0.9839 - val_precision: 0.9839 - val_recall: 0.9839 - val_auc: 0.9979\n",
            "Epoch 156/175\n",
            "2123/2123 [==============================] - 1s 652us/step - loss: 0.0126 - accuracy: 0.9839 - precision: 0.9839 - recall: 0.9839 - auc: 0.9979 - val_loss: 0.1257 - val_accuracy: 0.9839 - val_precision: 0.9839 - val_recall: 0.9839 - val_auc: 0.9979\n",
            "Epoch 157/175\n",
            "2123/2123 [==============================] - 1s 657us/step - loss: 0.0104 - accuracy: 0.9839 - precision: 0.9839 - recall: 0.9839 - auc: 0.9980 - val_loss: 0.1229 - val_accuracy: 0.9840 - val_precision: 0.9840 - val_recall: 0.9840 - val_auc: 0.9980\n",
            "Epoch 158/175\n",
            "2123/2123 [==============================] - 1s 659us/step - loss: 0.0106 - accuracy: 0.9840 - precision: 0.9840 - recall: 0.9840 - auc: 0.9980 - val_loss: 0.1490 - val_accuracy: 0.9840 - val_precision: 0.9840 - val_recall: 0.9840 - val_auc: 0.9980\n",
            "Epoch 159/175\n",
            "2123/2123 [==============================] - 1s 657us/step - loss: 0.0128 - accuracy: 0.9840 - precision: 0.9840 - recall: 0.9840 - auc: 0.9980 - val_loss: 0.1455 - val_accuracy: 0.9841 - val_precision: 0.9841 - val_recall: 0.9841 - val_auc: 0.9980\n",
            "Epoch 160/175\n",
            "2123/2123 [==============================] - 1s 660us/step - loss: 0.0151 - accuracy: 0.9841 - precision: 0.9841 - recall: 0.9841 - auc: 0.9980 - val_loss: 0.1547 - val_accuracy: 0.9841 - val_precision: 0.9841 - val_recall: 0.9841 - val_auc: 0.9980\n",
            "Epoch 161/175\n",
            "2123/2123 [==============================] - 1s 668us/step - loss: 0.0181 - accuracy: 0.9841 - precision: 0.9841 - recall: 0.9841 - auc: 0.9980 - val_loss: 0.1081 - val_accuracy: 0.9842 - val_precision: 0.9842 - val_recall: 0.9842 - val_auc: 0.9980\n",
            "Epoch 162/175\n",
            "2123/2123 [==============================] - 1s 654us/step - loss: 0.0163 - accuracy: 0.9842 - precision: 0.9842 - recall: 0.9842 - auc: 0.9980 - val_loss: 0.1287 - val_accuracy: 0.9842 - val_precision: 0.9842 - val_recall: 0.9842 - val_auc: 0.9980\n",
            "Epoch 163/175\n",
            "2123/2123 [==============================] - 1s 648us/step - loss: 0.0193 - accuracy: 0.9842 - precision: 0.9842 - recall: 0.9842 - auc: 0.9980 - val_loss: 0.1118 - val_accuracy: 0.9842 - val_precision: 0.9842 - val_recall: 0.9842 - val_auc: 0.9980\n",
            "Epoch 164/175\n",
            "2123/2123 [==============================] - 1s 651us/step - loss: 0.0230 - accuracy: 0.9843 - precision: 0.9843 - recall: 0.9843 - auc: 0.9980 - val_loss: 0.1093 - val_accuracy: 0.9843 - val_precision: 0.9843 - val_recall: 0.9843 - val_auc: 0.9980\n",
            "Epoch 165/175\n",
            "2123/2123 [==============================] - 1s 654us/step - loss: 0.0151 - accuracy: 0.9843 - precision: 0.9843 - recall: 0.9843 - auc: 0.9980 - val_loss: 0.1150 - val_accuracy: 0.9843 - val_precision: 0.9843 - val_recall: 0.9843 - val_auc: 0.9980\n",
            "Epoch 166/175\n",
            "2123/2123 [==============================] - 1s 652us/step - loss: 0.0174 - accuracy: 0.9843 - precision: 0.9843 - recall: 0.9843 - auc: 0.9980 - val_loss: 0.1233 - val_accuracy: 0.9844 - val_precision: 0.9844 - val_recall: 0.9844 - val_auc: 0.9980\n",
            "Epoch 167/175\n",
            "2123/2123 [==============================] - 1s 651us/step - loss: 0.0133 - accuracy: 0.9844 - precision: 0.9844 - recall: 0.9844 - auc: 0.9980 - val_loss: 0.1274 - val_accuracy: 0.9844 - val_precision: 0.9844 - val_recall: 0.9844 - val_auc: 0.9980\n",
            "Epoch 168/175\n",
            "2123/2123 [==============================] - 1s 658us/step - loss: 0.0122 - accuracy: 0.9844 - precision: 0.9844 - recall: 0.9844 - auc: 0.9980 - val_loss: 0.1553 - val_accuracy: 0.9844 - val_precision: 0.9844 - val_recall: 0.9844 - val_auc: 0.9980\n",
            "Epoch 169/175\n",
            "2123/2123 [==============================] - 1s 653us/step - loss: 0.0144 - accuracy: 0.9845 - precision: 0.9845 - recall: 0.9845 - auc: 0.9980 - val_loss: 0.1198 - val_accuracy: 0.9845 - val_precision: 0.9845 - val_recall: 0.9845 - val_auc: 0.9980\n",
            "Epoch 170/175\n",
            "2123/2123 [==============================] - 1s 647us/step - loss: 0.0270 - accuracy: 0.9845 - precision: 0.9845 - recall: 0.9845 - auc: 0.9980 - val_loss: 0.1047 - val_accuracy: 0.9845 - val_precision: 0.9845 - val_recall: 0.9845 - val_auc: 0.9980\n",
            "Epoch 171/175\n",
            "2123/2123 [==============================] - 1s 655us/step - loss: 0.0151 - accuracy: 0.9845 - precision: 0.9845 - recall: 0.9845 - auc: 0.9980 - val_loss: 0.0978 - val_accuracy: 0.9845 - val_precision: 0.9845 - val_recall: 0.9845 - val_auc: 0.9980\n",
            "Epoch 172/175\n",
            "2123/2123 [==============================] - 1s 651us/step - loss: 0.0158 - accuracy: 0.9846 - precision: 0.9846 - recall: 0.9846 - auc: 0.9980 - val_loss: 0.1177 - val_accuracy: 0.9846 - val_precision: 0.9846 - val_recall: 0.9846 - val_auc: 0.9980\n",
            "Epoch 173/175\n",
            "2123/2123 [==============================] - 1s 661us/step - loss: 0.0114 - accuracy: 0.9846 - precision: 0.9846 - recall: 0.9846 - auc: 0.9980 - val_loss: 0.1131 - val_accuracy: 0.9846 - val_precision: 0.9846 - val_recall: 0.9846 - val_auc: 0.9980\n",
            "Epoch 174/175\n",
            "2123/2123 [==============================] - 1s 650us/step - loss: 0.0101 - accuracy: 0.9847 - precision: 0.9847 - recall: 0.9847 - auc: 0.9980 - val_loss: 0.1275 - val_accuracy: 0.9847 - val_precision: 0.9847 - val_recall: 0.9847 - val_auc: 0.9980\n",
            "Epoch 175/175\n",
            "2123/2123 [==============================] - 1s 655us/step - loss: 0.0108 - accuracy: 0.9847 - precision: 0.9847 - recall: 0.9847 - auc: 0.9980 - val_loss: 0.1411 - val_accuracy: 0.9847 - val_precision: 0.9847 - val_recall: 0.9847 - val_auc: 0.9980\n"
          ],
          "name": "stdout"
        }
      ]
    },
    {
      "cell_type": "code",
      "metadata": {
        "id": "av0uFIPEmc2l",
        "colab_type": "code",
        "outputId": "d713532f-6730-428e-c0b8-7ad1f41522e3",
        "colab": {
          "base_uri": "https://localhost:8080/",
          "height": 184
        }
      },
      "source": [
        "for a,b in history.history.items():\n",
        "  print(a)"
      ],
      "execution_count": 0,
      "outputs": [
        {
          "output_type": "stream",
          "text": [
            "val_loss\n",
            "val_accuracy\n",
            "val_precision\n",
            "val_recall\n",
            "val_auc\n",
            "loss\n",
            "accuracy\n",
            "precision\n",
            "recall\n",
            "auc\n"
          ],
          "name": "stdout"
        }
      ]
    },
    {
      "cell_type": "code",
      "metadata": {
        "id": "fhhjBqdjAJRy",
        "colab_type": "code",
        "outputId": "89b35223-e203-47d7-83e8-f23c02ec824b",
        "colab": {
          "base_uri": "https://localhost:8080/",
          "height": 1000
        }
      },
      "source": [
        "history_dict = history.history\n",
        "loss_values = history_dict['loss']\n",
        "val_loss_values = history_dict['val_loss'] \n",
        "\n",
        "plt.plot(loss_values, 'b', label = 'Training Loss')\n",
        "plt.plot(val_loss_values, 'r', label = 'Validation Loss')\n",
        "plt.title('Training and validation loss')\n",
        "plt.xlabel('Epochs')\n",
        "plt.ylabel('Loss')\n",
        "plt.legend()\n",
        "plt.savefig('loss.png', dpi=500, bbox_inches='tight')\n",
        "\n",
        "plt.show()\n",
        "\n",
        "plt.clf()\n",
        "\n",
        "acc_values = history_dict['precision']\n",
        "val_acc_values = history_dict['val_precision']\n",
        "\n",
        "plt.plot(acc_values, 'b', label = 'Training precision')\n",
        "plt.plot(val_acc_values, 'r', label = 'Validation precision')\n",
        "plt.title('Training and validation precision')\n",
        "plt.xlabel('Epochs')\n",
        "plt.ylabel('Precision')\n",
        "plt.legend()\n",
        "plt.savefig('precision.png', dpi=500, bbox_inches='tight')\n",
        "plt.show()\n",
        "\n",
        "\n",
        "plt.clf()\n",
        "\n",
        "rec_values = history_dict['recall']\n",
        "val_rec_values = history_dict['val_recall']\n",
        "\n",
        "plt.plot(rec_values, 'b', label = 'Training recall')\n",
        "plt.plot(val_rec_values, 'r', label = 'Validation reacall')\n",
        "plt.title('Training and validation reacall')\n",
        "plt.xlabel('Epochs')\n",
        "plt.ylabel('Recall')\n",
        "plt.legend()\n",
        "plt.savefig('recall.png', dpi=500, bbox_inches='tight')\n",
        "plt.show()\n",
        "\n",
        "plt.clf()\n",
        "\n",
        "auc_values = history_dict['auc']\n",
        "val_auc_values = history_dict['val_auc']\n",
        "\n",
        "plt.plot(auc_values, 'b', label = 'Training auc')\n",
        "plt.plot(val_auc_values, 'r', label = 'Validation auc')\n",
        "plt.title('Training and validation auc')\n",
        "plt.xlabel('Epochs')\n",
        "plt.ylabel('Auc')\n",
        "plt.legend()\n",
        "plt.savefig('auc.png', dpi=500, bbox_inches='tight')\n",
        "plt.show()"
      ],
      "execution_count": 0,
      "outputs": [
        {
          "output_type": "display_data",
          "data": {
            "image/png": "[encoded data removed]",
            "text/plain": [
              "<Figure size 432x288 with 1 Axes>"
            ]
          },
          "metadata": {
            "tags": [],
            "needs_background": "light"
          }
        },
        {
          "output_type": "display_data",
          "data": {
            "image/png": "[encoded data removed]",
            "text/plain": [
              "<Figure size 432x288 with 1 Axes>"
            ]
          },
          "metadata": {
            "tags": [],
            "needs_background": "light"
          }
        },
        {
          "output_type": "display_data",
          "data": {
            "image/png": "[encoded data removed]",
            "text/plain": [
              "<Figure size 432x288 with 1 Axes>"
            ]
          },
          "metadata": {
            "tags": [],
            "needs_background": "light"
          }
        },
        {
          "output_type": "display_data",
          "data": {
            "image/png": "[encoded data removed]",
            "text/plain": [
              "<Figure size 432x288 with 1 Axes>"
            ]
          },
          "metadata": {
            "tags": [],
            "needs_background": "light"
          }
        }
      ]
    },
    {
      "cell_type": "code",
      "metadata": {
        "id": "QW0WGKOcvaKH",
        "colab_type": "code",
        "outputId": "b55448f3-9225-41d9-a748-a89999d26fc8",
        "colab": {
          "base_uri": "https://localhost:8080/",
          "height": 133
        }
      },
      "source": [
        "loss, accuracy , precision, recall, auc = model.evaluate(X, y)\n",
        "print(\"Loss is\", loss)\n",
        "print(\"Accuracy is\", accuracy)\n",
        "print(\"precision is\", precision)\n",
        "print(\"Recall is\", recall)\n",
        "print(\"AUC is\", auc)\n",
        "print(\"F1 Score is\", (2 * recall * precision) / (recall + precision))"
      ],
      "execution_count": 0,
      "outputs": [
        {
          "output_type": "stream",
          "text": [
            "2498/2498 [==============================] - 1s 253us/step\n",
            "Loss is 0.02768798690964749\n",
            "Accuracy is 0.9847612977027893\n",
            "precision is 0.9847612977027893\n",
            "Recall is 0.9847612977027893\n",
            "AUC is 0.9980078339576721\n",
            "F1 Score is 0.9847612977027893\n"
          ],
          "name": "stdout"
        }
      ]
    },
    {
      "cell_type": "code",
      "metadata": {
        "id": "q3461KOasvYC",
        "colab_type": "code",
        "colab": {}
      },
      "source": [
        "from keras.models import model_from_json\n",
        "model_json = model.to_json()\n",
        "with open(\"model7.json\", \"w\") as json_file:\n",
        "    json_file.write(model_json)"
      ],
      "execution_count": 0,
      "outputs": []
    },
    {
      "cell_type": "code",
      "metadata": {
        "id": "BrWdk_gT73IV",
        "colab_type": "code",
        "colab": {}
      },
      "source": [
        "model.save_weights(\"my_weights_v7.h5\")"
      ],
      "execution_count": 0,
      "outputs": []
    },
    {
      "cell_type": "code",
      "metadata": {
        "id": "qMN4Mp9e8L4p",
        "colab_type": "code",
        "outputId": "2f03398b-4469-4fc5-b387-ac57364ab61e",
        "colab": {
          "base_uri": "https://localhost:8080/",
          "height": 67
        }
      },
      "source": [
        "!zip /content/drive/My Drive/my_weights_v4.h5.zip my_weights_v4.h5"
      ],
      "execution_count": 0,
      "outputs": [
        {
          "output_type": "stream",
          "text": [
            "\tzip warning: name not matched: Drive/my_weights_v4.h5.zip\n",
            "zip I/O error: Operation not supported\n",
            "zip error: Could not create output file (/content/drive/My.zip)\n"
          ],
          "name": "stdout"
        }
      ]
    },
    {
      "cell_type": "code",
      "metadata": {
        "id": "9HUPOr80hul4",
        "colab_type": "code",
        "outputId": "1efbe00e-f4d3-496f-c10e-04b310e43878",
        "colab": {
          "base_uri": "https://localhost:8080/",
          "height": 50
        }
      },
      "source": [
        "!gsutil cp -r /content/new/my_weights_v4.h5 /content/drive/My Drive/Machine_Learning"
      ],
      "execution_count": 0,
      "outputs": [
        {
          "output_type": "stream",
          "text": [
            "CommandException: Destination URL must name a directory, bucket, or bucket\n",
            "subdirectory for the multiple source form of the cp command.\n"
          ],
          "name": "stdout"
        }
      ]
    },
    {
      "cell_type": "code",
      "metadata": {
        "id": "SNGUaMLLvJmZ",
        "colab_type": "code",
        "colab": {}
      },
      "source": [
        ""
      ],
      "execution_count": 0,
      "outputs": []
    }
  ]
}